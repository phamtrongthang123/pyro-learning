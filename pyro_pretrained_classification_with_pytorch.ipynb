{
  "nbformat": 4,
  "nbformat_minor": 0,
  "metadata": {
    "colab": {
      "name": "pyro-pretrained-classification-with-pytorch.ipynb",
      "provenance": [],
      "machine_shape": "hm"
    },
    "kernelspec": {
      "name": "python3",
      "display_name": "Python 3"
    },
    "accelerator": "GPU",
    "widgets": {
      "application/vnd.jupyter.widget-state+json": {
        "90f54d7be29640928215cbc6ff056a1c": {
          "model_module": "@jupyter-widgets/controls",
          "model_name": "HBoxModel",
          "state": {
            "_view_name": "HBoxView",
            "_dom_classes": [],
            "_model_name": "HBoxModel",
            "_view_module": "@jupyter-widgets/controls",
            "_model_module_version": "1.5.0",
            "_view_count": null,
            "_view_module_version": "1.5.0",
            "box_style": "",
            "layout": "IPY_MODEL_35aa2624e15b4a608233ca24c46f0a03",
            "_model_module": "@jupyter-widgets/controls",
            "children": [
              "IPY_MODEL_ccda6249380043bea3247ab091ec8663",
              "IPY_MODEL_ae781f3fd8564839966818d8b5e850b9"
            ]
          }
        },
        "35aa2624e15b4a608233ca24c46f0a03": {
          "model_module": "@jupyter-widgets/base",
          "model_name": "LayoutModel",
          "state": {
            "_view_name": "LayoutView",
            "grid_template_rows": null,
            "right": null,
            "justify_content": null,
            "_view_module": "@jupyter-widgets/base",
            "overflow": null,
            "_model_module_version": "1.2.0",
            "_view_count": null,
            "flex_flow": null,
            "width": null,
            "min_width": null,
            "border": null,
            "align_items": null,
            "bottom": null,
            "_model_module": "@jupyter-widgets/base",
            "top": null,
            "grid_column": null,
            "overflow_y": null,
            "overflow_x": null,
            "grid_auto_flow": null,
            "grid_area": null,
            "grid_template_columns": null,
            "flex": null,
            "_model_name": "LayoutModel",
            "justify_items": null,
            "grid_row": null,
            "max_height": null,
            "align_content": null,
            "visibility": null,
            "align_self": null,
            "height": null,
            "min_height": null,
            "padding": null,
            "grid_auto_rows": null,
            "grid_gap": null,
            "max_width": null,
            "order": null,
            "_view_module_version": "1.2.0",
            "grid_template_areas": null,
            "object_position": null,
            "object_fit": null,
            "grid_auto_columns": null,
            "margin": null,
            "display": null,
            "left": null
          }
        },
        "ccda6249380043bea3247ab091ec8663": {
          "model_module": "@jupyter-widgets/controls",
          "model_name": "FloatProgressModel",
          "state": {
            "_view_name": "ProgressView",
            "style": "IPY_MODEL_3e1aac5936914d07a258b9547404935c",
            "_dom_classes": [],
            "description": "100%",
            "_model_name": "FloatProgressModel",
            "bar_style": "success",
            "max": 46827520,
            "_view_module": "@jupyter-widgets/controls",
            "_model_module_version": "1.5.0",
            "value": 46827520,
            "_view_count": null,
            "_view_module_version": "1.5.0",
            "orientation": "horizontal",
            "min": 0,
            "description_tooltip": null,
            "_model_module": "@jupyter-widgets/controls",
            "layout": "IPY_MODEL_34e6053be3574c0d8051ce4796b7d002"
          }
        },
        "ae781f3fd8564839966818d8b5e850b9": {
          "model_module": "@jupyter-widgets/controls",
          "model_name": "HTMLModel",
          "state": {
            "_view_name": "HTMLView",
            "style": "IPY_MODEL_91aa3c1295d048e496b11390a325114f",
            "_dom_classes": [],
            "description": "",
            "_model_name": "HTMLModel",
            "placeholder": "​",
            "_view_module": "@jupyter-widgets/controls",
            "_model_module_version": "1.5.0",
            "value": " 44.7M/44.7M [00:01&lt;00:00, 37.4MB/s]",
            "_view_count": null,
            "_view_module_version": "1.5.0",
            "description_tooltip": null,
            "_model_module": "@jupyter-widgets/controls",
            "layout": "IPY_MODEL_8e46411f6426456b81c9338fc6687446"
          }
        },
        "3e1aac5936914d07a258b9547404935c": {
          "model_module": "@jupyter-widgets/controls",
          "model_name": "ProgressStyleModel",
          "state": {
            "_view_name": "StyleView",
            "_model_name": "ProgressStyleModel",
            "description_width": "initial",
            "_view_module": "@jupyter-widgets/base",
            "_model_module_version": "1.5.0",
            "_view_count": null,
            "_view_module_version": "1.2.0",
            "bar_color": null,
            "_model_module": "@jupyter-widgets/controls"
          }
        },
        "34e6053be3574c0d8051ce4796b7d002": {
          "model_module": "@jupyter-widgets/base",
          "model_name": "LayoutModel",
          "state": {
            "_view_name": "LayoutView",
            "grid_template_rows": null,
            "right": null,
            "justify_content": null,
            "_view_module": "@jupyter-widgets/base",
            "overflow": null,
            "_model_module_version": "1.2.0",
            "_view_count": null,
            "flex_flow": null,
            "width": null,
            "min_width": null,
            "border": null,
            "align_items": null,
            "bottom": null,
            "_model_module": "@jupyter-widgets/base",
            "top": null,
            "grid_column": null,
            "overflow_y": null,
            "overflow_x": null,
            "grid_auto_flow": null,
            "grid_area": null,
            "grid_template_columns": null,
            "flex": null,
            "_model_name": "LayoutModel",
            "justify_items": null,
            "grid_row": null,
            "max_height": null,
            "align_content": null,
            "visibility": null,
            "align_self": null,
            "height": null,
            "min_height": null,
            "padding": null,
            "grid_auto_rows": null,
            "grid_gap": null,
            "max_width": null,
            "order": null,
            "_view_module_version": "1.2.0",
            "grid_template_areas": null,
            "object_position": null,
            "object_fit": null,
            "grid_auto_columns": null,
            "margin": null,
            "display": null,
            "left": null
          }
        },
        "91aa3c1295d048e496b11390a325114f": {
          "model_module": "@jupyter-widgets/controls",
          "model_name": "DescriptionStyleModel",
          "state": {
            "_view_name": "StyleView",
            "_model_name": "DescriptionStyleModel",
            "description_width": "",
            "_view_module": "@jupyter-widgets/base",
            "_model_module_version": "1.5.0",
            "_view_count": null,
            "_view_module_version": "1.2.0",
            "_model_module": "@jupyter-widgets/controls"
          }
        },
        "8e46411f6426456b81c9338fc6687446": {
          "model_module": "@jupyter-widgets/base",
          "model_name": "LayoutModel",
          "state": {
            "_view_name": "LayoutView",
            "grid_template_rows": null,
            "right": null,
            "justify_content": null,
            "_view_module": "@jupyter-widgets/base",
            "overflow": null,
            "_model_module_version": "1.2.0",
            "_view_count": null,
            "flex_flow": null,
            "width": null,
            "min_width": null,
            "border": null,
            "align_items": null,
            "bottom": null,
            "_model_module": "@jupyter-widgets/base",
            "top": null,
            "grid_column": null,
            "overflow_y": null,
            "overflow_x": null,
            "grid_auto_flow": null,
            "grid_area": null,
            "grid_template_columns": null,
            "flex": null,
            "_model_name": "LayoutModel",
            "justify_items": null,
            "grid_row": null,
            "max_height": null,
            "align_content": null,
            "visibility": null,
            "align_self": null,
            "height": null,
            "min_height": null,
            "padding": null,
            "grid_auto_rows": null,
            "grid_gap": null,
            "max_width": null,
            "order": null,
            "_view_module_version": "1.2.0",
            "grid_template_areas": null,
            "object_position": null,
            "object_fit": null,
            "grid_auto_columns": null,
            "margin": null,
            "display": null,
            "left": null
          }
        }
      }
    }
  },
  "cells": [
    {
      "cell_type": "code",
      "metadata": {
        "id": "BPHiGpjTFvgR",
        "colab_type": "code",
        "colab": {}
      },
      "source": [
        "%%capture\n",
        "!pip install pyro-ppl "
      ],
      "execution_count": 0,
      "outputs": []
    },
    {
      "cell_type": "code",
      "metadata": {
        "id": "UOwxcgH7HCDW",
        "colab_type": "code",
        "colab": {}
      },
      "source": [
        "# General\n",
        "import os\n",
        "from collections import defaultdict\n",
        "import numpy as np\n",
        "import scipy.stats\n",
        "import matplotlib.pyplot as plt\n",
        "%matplotlib inline\n",
        "# Pytorch\n",
        "import torch\n",
        "from torch.distributions import constraints\n",
        "import torchvision.datasets as dset\n",
        "import torch.nn as nn\n",
        "import torchvision\n",
        "import torchvision.transforms as transforms\n",
        "from torchvision import datasets, models, transforms\n",
        "\n",
        "# Pyro\n",
        "import pyro\n",
        "import pyro.distributions as dist\n",
        "from pyro.infer import SVI, Trace_ELBO\n",
        "from pyro.optim import Adam, SGD\n",
        "\n",
        "pyro.enable_validation(True)    # <---- This is always a good idea!\n",
        "pyro.distributions.enable_validation(False)\n",
        "pyro.set_rng_seed(0)\n",
        "# Enable smoke test - run the notebook cells on CI.\n",
        "smoke_test = 'CI' in os.environ"
      ],
      "execution_count": 0,
      "outputs": []
    },
    {
      "cell_type": "markdown",
      "metadata": {
        "id": "A9ZdT-yIHCnM",
        "colab_type": "text"
      },
      "source": [
        "# Setup dataloader"
      ]
    },
    {
      "cell_type": "code",
      "metadata": {
        "id": "Uq6UhQsrIqS5",
        "colab_type": "code",
        "colab": {}
      },
      "source": [
        "%%capture\n",
        "!wget https://download.pytorch.org/tutorial/hymenoptera_data.zip\n",
        "!unzip hymenoptera_data.zip"
      ],
      "execution_count": 0,
      "outputs": []
    },
    {
      "cell_type": "code",
      "metadata": {
        "id": "ZfR3HvRoHFVx",
        "colab_type": "code",
        "colab": {}
      },
      "source": [
        "# for loading and batching MNIST dataset\n",
        "def setup_data_loaders(batch_size=4, use_cuda=False):\n",
        "    data_transforms = {\n",
        "    'train': transforms.Compose([\n",
        "        transforms.RandomResizedCrop(224),\n",
        "        transforms.RandomHorizontalFlip(),\n",
        "        transforms.ToTensor(),\n",
        "        transforms.Normalize([0.485, 0.456, 0.406], [0.229, 0.224, 0.225])\n",
        "    ]),\n",
        "    'val': transforms.Compose([\n",
        "        transforms.Resize(256),\n",
        "        transforms.CenterCrop(224),\n",
        "        transforms.ToTensor(),\n",
        "        transforms.Normalize([0.485, 0.456, 0.406], [0.229, 0.224, 0.225])\n",
        "    ]),\n",
        "}\n",
        "\n",
        "    data_dir = 'hymenoptera_data'\n",
        "    image_datasets = {x: datasets.ImageFolder(os.path.join(data_dir, x),\n",
        "                                              data_transforms[x])\n",
        "                      for x in ['train', 'val']}\n",
        "    dataloaders = {x: torch.utils.data.DataLoader(image_datasets[x], batch_size=batch_size,\n",
        "                                                shuffle=True, num_workers=4)\n",
        "                  for x in ['train', 'val']}\n",
        "    dataset_sizes = {x: len(image_datasets[x]) for x in ['train', 'val']}\n",
        "    class_names = image_datasets['train'].classes\n",
        "    return dataloaders['train'], dataloaders['val'], class_names"
      ],
      "execution_count": 0,
      "outputs": []
    },
    {
      "cell_type": "markdown",
      "metadata": {
        "id": "ncK_Lm_XH69J",
        "colab_type": "text"
      },
      "source": [
        "# Implement model"
      ]
    },
    {
      "cell_type": "code",
      "metadata": {
        "id": "E3h_sQnOJS1c",
        "colab_type": "code",
        "colab": {}
      },
      "source": [
        "import torch.nn as nn\n",
        "import torch.nn.functional as F\n",
        "\n",
        "# Cifar\n",
        "# class Net(nn.Module):\n",
        "#     def __init__(self):\n",
        "#         super(Net, self).__init__()\n",
        "#         self.conv1 = nn.Conv2d(3, 6, 5)\n",
        "#         self.pool = nn.MaxPool2d(2, 2)\n",
        "#         self.conv2 = nn.Conv2d(6, 16, 5)\n",
        "#         self.fc1 = nn.Linear(16 * 5 * 5, 120)\n",
        "#         self.fc2 = nn.Linear(120, 84)\n",
        "#         self.fc3 = nn.Linear(84, 10)\n",
        "\n",
        "#     def forward(self, x):\n",
        "#         x = self.pool(F.relu(self.conv1(x)))\n",
        "#         x = self.pool(F.relu(self.conv2(x)))\n",
        "#         x = x.view(-1, 16 * 5 * 5)\n",
        "#         x = F.relu(self.fc1(x))\n",
        "#         x = F.relu(self.fc2(x))\n",
        "#         x = self.fc3(x)\n",
        "        \n",
        "#         return F.softmax(x,dim=1)"
      ],
      "execution_count": 0,
      "outputs": []
    },
    {
      "cell_type": "code",
      "metadata": {
        "id": "IelxJWBPHUMo",
        "colab_type": "code",
        "colab": {}
      },
      "source": [
        "class Classifier(nn.Module):\n",
        "    def __init__(self, use_cuda=False):\n",
        "        super(Classifier, self).__init__()\n",
        "        self.linear  = models.resnet18(pretrained=True)\n",
        "        self.linear.fc = nn.Linear(self.linear.fc.in_features, 2)\n",
        "        if use_cuda:\n",
        "            self.cuda()\n",
        "        self.use_cuda = use_cuda\n",
        "\n",
        "    # define the model p(x|z)p(z)\n",
        "    def model(self, x,y):\n",
        "        # register PyTorch module `linear` with Pyro\n",
        "        pyro.module(\"linear\", self.linear)\n",
        "        with pyro.plate(\"data\", x.shape[0]):\n",
        "            probs = self.linear(x)\n",
        "            \n",
        "            # score against actual images\n",
        "            pyro.sample(\"obs\", dist.Categorical(logits=probs).to_event(1), obs=y)\n",
        "\n",
        "    # define the guide (i.e. variational distribution) q(z|x)\n",
        "    def guide(self, x,y):   \n",
        "        # pyro.module(\"linear\", self.linear)\n",
        "        pass\n",
        "\n",
        "    def forward(self, x):\n",
        "      return torch.argmax(self.linear(x),dim=1)\n",
        "\n",
        "    "
      ],
      "execution_count": 0,
      "outputs": []
    },
    {
      "cell_type": "markdown",
      "metadata": {
        "id": "LCnK6Xq-H-el",
        "colab_type": "text"
      },
      "source": [
        "# Inference"
      ]
    },
    {
      "cell_type": "markdown",
      "metadata": {
        "id": "Ba_7-35ceh6u",
        "colab_type": "text"
      },
      "source": [
        "## SVI"
      ]
    },
    {
      "cell_type": "code",
      "metadata": {
        "id": "Eo848soFIAxB",
        "colab_type": "code",
        "colab": {}
      },
      "source": [
        "def train(svi, train_loader, use_cuda=False):\n",
        "    # initialize loss accumulator\n",
        "    epoch_loss = 0.\n",
        "    # do a training epoch over each mini-batch x returned\n",
        "    # by the data loader\n",
        "    acc = 0\n",
        "    for x, y in train_loader:\n",
        "        # if on GPU put mini-batch into CUDA memory\n",
        "        if use_cuda:\n",
        "            x = x.cuda()\n",
        "            y = y.cuda()\n",
        "        # do ELBO gradient and accumulate loss\n",
        "        epoch_loss += svi.step(x,y)\n",
        "        acc += sum(y == classifier.forward(x))\n",
        "\n",
        "    # return epoch loss\n",
        "    normalizer_train = len(train_loader.dataset)\n",
        "    total_epoch_loss_train = epoch_loss / normalizer_train\n",
        "    return total_epoch_loss_train,acc*1.0/normalizer_train"
      ],
      "execution_count": 0,
      "outputs": []
    },
    {
      "cell_type": "code",
      "metadata": {
        "id": "WBnIGYPEI0Nx",
        "colab_type": "code",
        "colab": {}
      },
      "source": [
        "def evaluate(svi, test_loader, use_cuda=False):\n",
        "    # initialize loss accumulator\n",
        "    test_loss = 0.\n",
        "    # compute the loss over the entire test set\n",
        "    acc=0\n",
        "    for x, y in test_loader:\n",
        "        # if on GPU put mini-batch into CUDA memory\n",
        "        if use_cuda:\n",
        "            x = x.cuda()\n",
        "            y = y.cuda()\n",
        "        # compute ELBO estimate and accumulate loss\n",
        "        test_loss += svi.evaluate_loss(x,y)\n",
        "        acc += sum(y == classifier.forward(x))\n",
        "    normalizer_test = len(test_loader.dataset)\n",
        "    total_epoch_loss_test = test_loss / normalizer_test\n",
        "    return total_epoch_loss_test,acc*1.0/normalizer_test"
      ],
      "execution_count": 0,
      "outputs": []
    },
    {
      "cell_type": "code",
      "metadata": {
        "id": "01fKxtMeI0jX",
        "colab_type": "code",
        "colab": {}
      },
      "source": [
        "# Run options\n",
        "LEARNING_RATE = 1.0e-3\n",
        "USE_CUDA = True\n",
        "\n",
        "# Run only for a single iteration for testing\n",
        "NUM_EPOCHS = 1 if smoke_test else 30\n",
        "TEST_FREQUENCY = 1"
      ],
      "execution_count": 0,
      "outputs": []
    },
    {
      "cell_type": "code",
      "metadata": {
        "id": "kJlYL7WVI0mB",
        "colab_type": "code",
        "outputId": "f3752dce-8467-4a38-ad50-c4fc78802203",
        "colab": {
          "base_uri": "https://localhost:8080/",
          "height": 1000,
          "referenced_widgets": [
            "90f54d7be29640928215cbc6ff056a1c",
            "35aa2624e15b4a608233ca24c46f0a03",
            "ccda6249380043bea3247ab091ec8663",
            "ae781f3fd8564839966818d8b5e850b9",
            "3e1aac5936914d07a258b9547404935c",
            "34e6053be3574c0d8051ce4796b7d002",
            "91aa3c1295d048e496b11390a325114f",
            "8e46411f6426456b81c9338fc6687446"
          ]
        }
      },
      "source": [
        "from pyro.infer import Trace_ELBO, JitTrace_ELBO, TraceEnum_ELBO, JitTraceEnum_ELBO, SVI\n",
        "\n",
        "train_loader, test_loader,classes = setup_data_loaders(batch_size=64, use_cuda=USE_CUDA)\n",
        "\n",
        "# clear param store\n",
        "pyro.clear_param_store()\n",
        "\n",
        "classifier = Classifier(use_cuda=USE_CUDA)\n",
        "\n",
        "# setup the optimizer\n",
        "adam_args = {\"lr\": LEARNING_RATE}\n",
        "optimizer = Adam(adam_args)\n",
        "\n",
        "# setup the inference algorithm\n",
        "svi = SVI(classifier.model, classifier.guide, optimizer, loss=JitTrace_ELBO())\n",
        "\n",
        "train_elbo = []\n",
        "test_elbo = []\n",
        "# training loop\n",
        "for epoch in range(NUM_EPOCHS):\n",
        "    total_epoch_loss_train,acc_train = train(svi, train_loader, use_cuda=USE_CUDA)\n",
        "    train_elbo.append(-total_epoch_loss_train)\n",
        "    print(\"[epoch %03d]  average training loss: %.4f ; acc : %.4f\" % (epoch, total_epoch_loss_train,acc_train))\n",
        "\n",
        "    if epoch % TEST_FREQUENCY == 0:\n",
        "        # report test diagnostics\n",
        "        total_epoch_loss_test,acc_test = evaluate(svi, test_loader, use_cuda=USE_CUDA)\n",
        "        test_elbo.append(-total_epoch_loss_test)\n",
        "        print(\"[epoch %03d] average test loss: %.4f ; acc : %.4f\" % (epoch, total_epoch_loss_test,acc_test))"
      ],
      "execution_count": 0,
      "outputs": [
        {
          "output_type": "stream",
          "text": [
            "Downloading: \"https://download.pytorch.org/models/resnet18-5c106cde.pth\" to /root/.cache/torch/checkpoints/resnet18-5c106cde.pth\n"
          ],
          "name": "stderr"
        },
        {
          "output_type": "display_data",
          "data": {
            "application/vnd.jupyter.widget-view+json": {
              "model_id": "90f54d7be29640928215cbc6ff056a1c",
              "version_minor": 0,
              "version_major": 2
            },
            "text/plain": [
              "HBox(children=(FloatProgress(value=0.0, max=46827520.0), HTML(value='')))"
            ]
          },
          "metadata": {
            "tags": []
          }
        },
        {
          "output_type": "stream",
          "text": [
            "\n",
            "[epoch 000]  average training loss: 29.8026 ; acc : 0.9877\n",
            "[epoch 000] average test loss: 29.2986 ; acc : 0.8431\n",
            "[epoch 001]  average training loss: 14.3055 ; acc : 1.0000\n",
            "[epoch 001] average test loss: 45.2841 ; acc : 0.8431\n",
            "[epoch 002]  average training loss: 27.6476 ; acc : 0.9672\n",
            "[epoch 002] average test loss: 33.8686 ; acc : 0.8431\n",
            "[epoch 003]  average training loss: 24.5224 ; acc : 0.9426\n",
            "[epoch 003] average test loss: 26.7088 ; acc : 0.8627\n",
            "[epoch 004]  average training loss: 16.5513 ; acc : 0.9303\n",
            "[epoch 004] average test loss: 54.5548 ; acc : 0.7843\n",
            "[epoch 005]  average training loss: 16.3607 ; acc : 0.9344\n",
            "[epoch 005] average test loss: 34.5489 ; acc : 0.8301\n",
            "[epoch 006]  average training loss: 11.9025 ; acc : 0.9590\n",
            "[epoch 006] average test loss: 27.4219 ; acc : 0.8431\n",
            "[epoch 007]  average training loss: 10.2511 ; acc : 0.9713\n",
            "[epoch 007] average test loss: 25.9186 ; acc : 0.8301\n",
            "[epoch 008]  average training loss: 10.3689 ; acc : 0.9631\n",
            "[epoch 008] average test loss: 23.0472 ; acc : 0.8627\n",
            "[epoch 009]  average training loss: 12.1611 ; acc : 0.9754\n",
            "[epoch 009] average test loss: 17.7903 ; acc : 0.8824\n",
            "[epoch 010]  average training loss: 9.5727 ; acc : 0.9672\n",
            "[epoch 010] average test loss: 22.0154 ; acc : 0.8824\n",
            "[epoch 011]  average training loss: 8.6410 ; acc : 0.9754\n",
            "[epoch 011] average test loss: 18.9778 ; acc : 0.9020\n",
            "[epoch 012]  average training loss: 6.2560 ; acc : 0.9795\n",
            "[epoch 012] average test loss: 21.5984 ; acc : 0.8562\n",
            "[epoch 013]  average training loss: 8.7345 ; acc : 0.9754\n",
            "[epoch 013] average test loss: 22.2959 ; acc : 0.8758\n",
            "[epoch 014]  average training loss: 4.3850 ; acc : 0.9918\n",
            "[epoch 014] average test loss: 19.5641 ; acc : 0.9020\n",
            "[epoch 015]  average training loss: 8.0887 ; acc : 0.9795\n",
            "[epoch 015] average test loss: 21.4519 ; acc : 0.8758\n",
            "[epoch 016]  average training loss: 6.5543 ; acc : 0.9795\n",
            "[epoch 016] average test loss: 23.2665 ; acc : 0.8954\n",
            "[epoch 017]  average training loss: 7.7242 ; acc : 0.9918\n",
            "[epoch 017] average test loss: 28.8202 ; acc : 0.8497\n",
            "[epoch 018]  average training loss: 5.4008 ; acc : 0.9877\n",
            "[epoch 018] average test loss: 30.4208 ; acc : 0.8497\n",
            "[epoch 019]  average training loss: 6.4271 ; acc : 0.9836\n",
            "[epoch 019] average test loss: 23.1168 ; acc : 0.8889\n",
            "[epoch 020]  average training loss: 6.0303 ; acc : 0.9754\n",
            "[epoch 020] average test loss: 19.2461 ; acc : 0.9085\n",
            "[epoch 021]  average training loss: 4.3124 ; acc : 0.9877\n",
            "[epoch 021] average test loss: 23.2315 ; acc : 0.9216\n",
            "[epoch 022]  average training loss: 4.7843 ; acc : 0.9877\n",
            "[epoch 022] average test loss: 27.3086 ; acc : 0.8889\n",
            "[epoch 023]  average training loss: 5.1160 ; acc : 0.9877\n",
            "[epoch 023] average test loss: 35.9669 ; acc : 0.8693\n",
            "[epoch 024]  average training loss: 4.3807 ; acc : 0.9918\n",
            "[epoch 024] average test loss: 32.1386 ; acc : 0.9020\n",
            "[epoch 025]  average training loss: 2.1988 ; acc : 0.9959\n",
            "[epoch 025] average test loss: 36.6325 ; acc : 0.8562\n",
            "[epoch 026]  average training loss: 7.3641 ; acc : 0.9877\n",
            "[epoch 026] average test loss: 32.9579 ; acc : 0.8889\n",
            "[epoch 027]  average training loss: 4.7351 ; acc : 0.9918\n",
            "[epoch 027] average test loss: 36.6306 ; acc : 0.8366\n",
            "[epoch 028]  average training loss: 5.4852 ; acc : 0.9918\n",
            "[epoch 028] average test loss: 32.2802 ; acc : 0.8366\n",
            "[epoch 029]  average training loss: 6.7110 ; acc : 0.9836\n",
            "[epoch 029] average test loss: 28.5610 ; acc : 0.8758\n"
          ],
          "name": "stdout"
        }
      ]
    },
    {
      "cell_type": "code",
      "metadata": {
        "id": "B6s2aiSFI0ok",
        "colab_type": "code",
        "colab": {}
      },
      "source": [
        "acc = 0\n",
        "for x, y in test_loader:\n",
        "  x = x.cuda()\n",
        "  y = y.cuda()\n",
        "  acc += sum(y == classifier.forward(x))\n",
        "  \n"
      ],
      "execution_count": 0,
      "outputs": []
    },
    {
      "cell_type": "code",
      "metadata": {
        "id": "UhZQm0vEI0yq",
        "colab_type": "code",
        "outputId": "8cf9f4c7-8470-4f38-b08c-97083030a92f",
        "colab": {
          "base_uri": "https://localhost:8080/",
          "height": 34
        }
      },
      "source": [
        "print(acc *1.0 / 10000)"
      ],
      "execution_count": 0,
      "outputs": [
        {
          "output_type": "stream",
          "text": [
            "tensor(0.9748, device='cuda:0')\n"
          ],
          "name": "stdout"
        }
      ]
    },
    {
      "cell_type": "markdown",
      "metadata": {
        "id": "HzRBFJ5pekIU",
        "colab_type": "text"
      },
      "source": [
        "## MCMC (Draft)"
      ]
    },
    {
      "cell_type": "code",
      "metadata": {
        "id": "xWDiDEGDI0rV",
        "colab_type": "code",
        "colab": {}
      },
      "source": [
        "x,y = train_loader.dataset"
      ],
      "execution_count": 0,
      "outputs": []
    },
    {
      "cell_type": "code",
      "metadata": {
        "id": "QoR623XHfoCG",
        "colab_type": "code",
        "outputId": "3899d4de-31b2-4f8f-ff69-90f86c7a074a",
        "colab": {
          "base_uri": "https://localhost:8080/",
          "height": 34
        }
      },
      "source": [
        "x.shape"
      ],
      "execution_count": 0,
      "outputs": [
        {
          "output_type": "execute_result",
          "data": {
            "text/plain": [
              "torch.Size([1, 28, 28])"
            ]
          },
          "metadata": {
            "tags": []
          },
          "execution_count": 56
        }
      ]
    },
    {
      "cell_type": "code",
      "metadata": {
        "id": "pXhM9O0IIFSC",
        "colab_type": "code",
        "colab": {}
      },
      "source": [
        "# for loading and batching MNIST dataset\n",
        "def setup_data_loaders_mcmc( use_cuda=False):\n",
        "    root = './data'\n",
        "    download = True\n",
        "    trans = transforms.ToTensor()\n",
        "    train_set = dset.MNIST(root=root, train=True, transform=trans,\n",
        "                           download=download)\n",
        "    test_set = dset.MNIST(root=root, train=False, transform=trans)\n",
        "\n",
        "    kwargs = {'num_workers': 1, 'pin_memory': use_cuda}\n",
        "    train_loader = torch.utils.data.DataLoader(dataset=train_set,\n",
        "        batch_size=60000, shuffle=True, **kwargs)\n",
        "    test_loader = torch.utils.data.DataLoader(dataset=test_set,\n",
        "        batch_size=10000, shuffle=False, **kwargs)\n",
        "    return train_loader, test_loader"
      ],
      "execution_count": 0,
      "outputs": []
    },
    {
      "cell_type": "code",
      "metadata": {
        "id": "wKgbcfabI0tV",
        "colab_type": "code",
        "colab": {}
      },
      "source": [
        "from pyro.infer.mcmc.api import MCMC\n",
        "from pyro.infer.mcmc import NUTS\n",
        " \n",
        "pyro.set_rng_seed(2)\n",
        "classifier2 = Classifier()\n",
        "\n",
        "# Mình chưa tìm được cách đẩy từ dataloader gốc về full data để pass mcmc \n",
        "# mà mình cũng không biết liệu có cách cho mcmc nhận input dạng batch không\n",
        "# chắc là không\n",
        "train_loader, test_loader = setup_data_loaders_mcmc()\n",
        "\n",
        "\n"
      ],
      "execution_count": 0,
      "outputs": []
    },
    {
      "cell_type": "code",
      "metadata": {
        "id": "VQ4q2dZwiON_",
        "colab_type": "code",
        "outputId": "5e0bc872-55ef-460a-9d40-6d8d0d8d6189",
        "colab": {
          "base_uri": "https://localhost:8080/",
          "height": 334
        }
      },
      "source": [
        "x,y = next(iter(train_loader))\n",
        "\n"
      ],
      "execution_count": 0,
      "outputs": [
        {
          "output_type": "stream",
          "text": [
            "Exception ignored in: <bound method _MultiProcessingDataLoaderIter.__del__ of <torch.utils.data.dataloader._MultiProcessingDataLoaderIter object at 0x7fea9c2d3780>>\n",
            "Traceback (most recent call last):\n",
            "  File \"/usr/local/lib/python3.6/dist-packages/torch/utils/data/dataloader.py\", line 961, in __del__\n",
            "    self._shutdown_workers()\n",
            "  File \"/usr/local/lib/python3.6/dist-packages/torch/utils/data/dataloader.py\", line 941, in _shutdown_workers\n",
            "    w.join()\n",
            "  File \"/usr/lib/python3.6/multiprocessing/process.py\", line 122, in join\n",
            "    assert self._parent_pid == os.getpid(), 'can only join a child process'\n",
            "AssertionError: can only join a child process\n",
            "Exception ignored in: <bound method _MultiProcessingDataLoaderIter.__del__ of <torch.utils.data.dataloader._MultiProcessingDataLoaderIter object at 0x7feb46ec80f0>>\n",
            "Traceback (most recent call last):\n",
            "  File \"/usr/local/lib/python3.6/dist-packages/torch/utils/data/dataloader.py\", line 961, in __del__\n",
            "    self._shutdown_workers()\n",
            "  File \"/usr/local/lib/python3.6/dist-packages/torch/utils/data/dataloader.py\", line 941, in _shutdown_workers\n",
            "    w.join()\n",
            "  File \"/usr/lib/python3.6/multiprocessing/process.py\", line 122, in join\n",
            "    assert self._parent_pid == os.getpid(), 'can only join a child process'\n",
            "AssertionError: can only join a child process\n"
          ],
          "name": "stderr"
        }
      ]
    },
    {
      "cell_type": "code",
      "metadata": {
        "id": "J_1ahcLPjhrI",
        "colab_type": "code",
        "outputId": "79b32322-0258-417b-f88d-299af205dccc",
        "colab": {
          "base_uri": "https://localhost:8080/",
          "height": 34
        }
      },
      "source": [
        "x.shape"
      ],
      "execution_count": 0,
      "outputs": [
        {
          "output_type": "execute_result",
          "data": {
            "text/plain": [
              "torch.Size([60000, 1, 28, 28])"
            ]
          },
          "metadata": {
            "tags": []
          },
          "execution_count": 70
        }
      ]
    },
    {
      "cell_type": "code",
      "metadata": {
        "id": "vqF6OTHEipCJ",
        "colab_type": "code",
        "outputId": "4dbbfeff-dfad-40bc-a8e1-644c871ea706",
        "colab": {
          "base_uri": "https://localhost:8080/",
          "height": 72
        }
      },
      "source": [
        "kernel = NUTS(classifier2.model_mcmc,jit_compile=True, ignore_jit_warnings=True)\n",
        "mcmc = MCMC(kernel, num_samples=3, warmup_steps=3)\n",
        "mcmc.run(x.cpu(),y.cpu())\n"
      ],
      "execution_count": 0,
      "outputs": [
        {
          "output_type": "stream",
          "text": [
            "\rWarmup:   0%|          | 0/6 [00:00, ?it/s]/usr/local/lib/python3.6/dist-packages/pyro/primitives.py:371: FutureWarning: The `random_module` primitive is deprecated, and will be removed in a future release. Use `pyro.nn.Module` to create Bayesian modules from `torch.nn.Module` instances.\n",
            "  \"modules from `torch.nn.Module` instances.\", FutureWarning)\n"
          ],
          "name": "stderr"
        }
      ]
    },
    {
      "cell_type": "code",
      "metadata": {
        "id": "jFpvor0JjpT8",
        "colab_type": "code",
        "colab": {}
      },
      "source": [
        "posterior_samples = mcmc.get_samples()"
      ],
      "execution_count": 0,
      "outputs": []
    }
  ]
}